{
 "cells": [
  {
   "cell_type": "code",
   "execution_count": 62,
   "id": "185f9072-9fb0-4e09-9c52-41302eee0a63",
   "metadata": {},
   "outputs": [],
   "source": [
    "import numpy as np\n",
    "import os\n",
    "from imageio.v2 import imread\n",
    "import matplotlib.pyplot as plt\n",
    "import pandas as pd\n",
    "import seaborn as sns\n",
    "from sklearn.model_selection import train_test_split\n",
    "\n",
    "\n",
    "\n",
    "from tensorflow.keras.utils import to_categorical\n",
    "from tensorflow.keras.models import Sequential\n",
    "from tensorflow.keras.layers import Dense, Dropout, Flatten, Conv2D, MaxPooling2D\n",
    "from tensorflow.keras import Input\n",
    "from tensorflow.keras.regularizers import l2"
   ]
  },
  {
   "cell_type": "markdown",
   "id": "d3c7b9d3-bc25-4968-88ad-1b1fa7841f36",
   "metadata": {},
   "source": [
    "# Reading in images"
   ]
  },
  {
   "cell_type": "code",
   "execution_count": 6,
   "id": "28e06d71-c079-455e-bc4b-17f6773a4e4b",
   "metadata": {},
   "outputs": [
    {
     "data": {
      "text/plain": [
       "['n02097658-silky_terrier',\n",
       " 'n02092002-Scottish_deerhound',\n",
       " 'n02099849-Chesapeake_Bay_retriever',\n",
       " 'n02091244-Ibizan_hound',\n",
       " 'n02095314-wire-haired_fox_terrier']"
      ]
     },
     "execution_count": 6,
     "metadata": {},
     "output_type": "execute_result"
    }
   ],
   "source": [
    "root = 'datasets/Images'\n",
    "files = os.listdir(root)\n",
    "files[:5]"
   ]
  },
  {
   "cell_type": "code",
   "execution_count": 63,
   "id": "0828c80d-2c6e-4e33-a4fa-1a1364fc8371",
   "metadata": {},
   "outputs": [],
   "source": [
    "images = []\n",
    "for file in files:\n",
    "    if file[0] == '.': # to get rid of hidden files\n",
    "        continue\n",
    "    dog_type = file.split('-')[1]\n",
    "    dogs = os.listdir(root +'/' +file)\n",
    "    dogs = [(root+'/'+file+'/'+dog, dog_type) for dog in dogs if dog[0]!='.']\n",
    "    images += dogs"
   ]
  },
  {
   "cell_type": "code",
   "execution_count": 65,
   "id": "5a1689a4-2ce8-4284-9186-e9e7384e4a02",
   "metadata": {},
   "outputs": [
    {
     "data": {
      "text/plain": [
       "[('datasets/Images/n02097658-silky_terrier/n02097658_26.jpg', 'silky_terrier'),\n",
       " ('datasets/Images/n02097658-silky_terrier/n02097658_4869.jpg',\n",
       "  'silky_terrier'),\n",
       " ('datasets/Images/n02097658-silky_terrier/n02097658_595.jpg',\n",
       "  'silky_terrier')]"
      ]
     },
     "execution_count": 65,
     "metadata": {},
     "output_type": "execute_result"
    }
   ],
   "source": [
    "images[:3]"
   ]
  },
  {
   "cell_type": "code",
   "execution_count": 66,
   "id": "520eaaac-d3b1-419d-832a-72deeb28e20b",
   "metadata": {},
   "outputs": [
    {
     "data": {
      "text/plain": [
       "(333, 500, 3)"
      ]
     },
     "execution_count": 66,
     "metadata": {},
     "output_type": "execute_result"
    }
   ],
   "source": [
    "test_image = images[4][0]\n",
    "vectorized_picture = np.array(imread(test_image))\n",
    "vectorized_picture.shape"
   ]
  },
  {
   "cell_type": "code",
   "execution_count": 67,
   "id": "4d51cd01-f541-44ff-9a21-e872c6add122",
   "metadata": {},
   "outputs": [],
   "source": [
    "heights = []\n",
    "widths = []\n",
    "colors = []\n",
    "for image in images:\n",
    "    im = image[0]\n",
    "    # if im.split('/')[-1][0] == '.':\n",
    "    #     continue\n",
    "    vectorized_picture = np.array(imread(im))\n",
    "    heights.append(vectorized_picture.shape[0])\n",
    "    widths.append(vectorized_picture.shape[1])\n",
    "    colors.append(vectorized_picture.shape[2])\n",
    "    "
   ]
  },
  {
   "cell_type": "markdown",
   "id": "248476f7-adad-42ee-b71f-b81aad4d2332",
   "metadata": {},
   "source": [
    "## Checking ranges of values of heights/widths and verifying all color images (3) values"
   ]
  },
  {
   "cell_type": "code",
   "execution_count": 68,
   "id": "9c37be40-9aab-44d9-8833-f88728bfea0c",
   "metadata": {},
   "outputs": [
    {
     "data": {
      "text/plain": [
       "(100, 385.8612244897959, 2562)"
      ]
     },
     "execution_count": 68,
     "metadata": {},
     "output_type": "execute_result"
    }
   ],
   "source": [
    "min(heights), np.mean(heights), max(heights)"
   ]
  },
  {
   "cell_type": "code",
   "execution_count": 69,
   "id": "87bd605b-149d-4fa0-b522-3ac3ea31af22",
   "metadata": {},
   "outputs": [
    {
     "data": {
      "text/plain": [
       "(97, 442.5318756073858, 3264)"
      ]
     },
     "execution_count": 69,
     "metadata": {},
     "output_type": "execute_result"
    }
   ],
   "source": [
    "min(widths), np.mean(widths), max(widths)"
   ]
  },
  {
   "cell_type": "code",
   "execution_count": 70,
   "id": "556d65ec-34c0-49b2-8004-2705ad20e182",
   "metadata": {},
   "outputs": [
    {
     "data": {
      "text/plain": [
       "(3, 4)"
      ]
     },
     "execution_count": 70,
     "metadata": {},
     "output_type": "execute_result"
    }
   ],
   "source": [
    "min(colors), max(colors)"
   ]
  },
  {
   "cell_type": "code",
   "execution_count": 71,
   "id": "a493716d-5854-492a-b4da-248b96dc7eee",
   "metadata": {},
   "outputs": [
    {
     "data": {
      "text/plain": [
       "[1]"
      ]
     },
     "execution_count": 71,
     "metadata": {},
     "output_type": "execute_result"
    }
   ],
   "source": [
    "[1 for color in colors if color==4 ] # one image with transparency data"
   ]
  },
  {
   "cell_type": "code",
   "execution_count": 73,
   "id": "06f4f49a-0874-4085-b96d-7190ca0ae0d7",
   "metadata": {},
   "outputs": [
    {
     "data": {
      "image/png": "[encoded data removed]",
      "text/plain": [
       "<Figure size 640x480 with 1 Axes>"
      ]
     },
     "metadata": {},
     "output_type": "display_data"
    }
   ],
   "source": [
    "sns.histplot(widths);"
   ]
  },
  {
   "cell_type": "code",
   "execution_count": null,
   "id": "59fbd2b7-a53d-4b5f-bb0c-2cb5106527fd",
   "metadata": {},
   "outputs": [],
   "source": [
    "dog_df = pd.DataFrame({'image_url': "
   ]
  }
 ],
 "metadata": {
  "kernelspec": {
   "display_name": "Python [conda env:tf3]",
   "language": "python",
   "name": "conda-env-tf3-py"
  },
  "language_info": {
   "codemirror_mode": {
    "name": "ipython",
    "version": 3
   },
   "file_extension": ".py",
   "mimetype": "text/x-python",
   "name": "python",
   "nbconvert_exporter": "python",
   "pygments_lexer": "ipython3",
   "version": "3.7.13"
  }
 },
 "nbformat": 4,
 "nbformat_minor": 5
}
